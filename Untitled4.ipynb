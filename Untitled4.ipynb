{
  "nbformat": 4,
  "nbformat_minor": 0,
  "metadata": {
    "colab": {
      "provenance": [],
      "gpuType": "V28"
    },
    "kernelspec": {
      "name": "python3",
      "display_name": "Python 3"
    },
    "language_info": {
      "name": "python"
    },
    "accelerator": "TPU"
  },
  "cells": [
    {
      "cell_type": "code",
      "execution_count": null,
      "metadata": {
        "id": "gcSm5hVnE6Q1"
      },
      "outputs": [],
      "source": [
        "from keras.datasets import mnist"
      ]
    },
    {
      "cell_type": "code",
      "source": [
        "(train_images, train_labels), (test_images, test_labels) = mnist.load_data()"
      ],
      "metadata": {
        "colab": {
          "base_uri": "https://localhost:8080/"
        },
        "id": "YKN8Gt5HGwgo",
        "outputId": "fcfa3be7-fe42-48f1-a43f-584be8cb3d0b"
      },
      "execution_count": null,
      "outputs": [
        {
          "output_type": "stream",
          "name": "stdout",
          "text": [
            "Downloading data from https://storage.googleapis.com/tensorflow/tf-keras-datasets/mnist.npz\n",
            "11490434/11490434 [==============================] - 0s 0us/step\n"
          ]
        }
      ]
    },
    {
      "cell_type": "code",
      "source": [
        "train_images"
      ],
      "metadata": {
        "colab": {
          "base_uri": "https://localhost:8080/"
        },
        "id": "yMifTlc8G6O2",
        "outputId": "efcc8cfc-0ec3-418f-f184-0fcbae72975f"
      },
      "execution_count": null,
      "outputs": [
        {
          "output_type": "execute_result",
          "data": {
            "text/plain": [
              "array([[[0, 0, 0, ..., 0, 0, 0],\n",
              "        [0, 0, 0, ..., 0, 0, 0],\n",
              "        [0, 0, 0, ..., 0, 0, 0],\n",
              "        ...,\n",
              "        [0, 0, 0, ..., 0, 0, 0],\n",
              "        [0, 0, 0, ..., 0, 0, 0],\n",
              "        [0, 0, 0, ..., 0, 0, 0]],\n",
              "\n",
              "       [[0, 0, 0, ..., 0, 0, 0],\n",
              "        [0, 0, 0, ..., 0, 0, 0],\n",
              "        [0, 0, 0, ..., 0, 0, 0],\n",
              "        ...,\n",
              "        [0, 0, 0, ..., 0, 0, 0],\n",
              "        [0, 0, 0, ..., 0, 0, 0],\n",
              "        [0, 0, 0, ..., 0, 0, 0]],\n",
              "\n",
              "       [[0, 0, 0, ..., 0, 0, 0],\n",
              "        [0, 0, 0, ..., 0, 0, 0],\n",
              "        [0, 0, 0, ..., 0, 0, 0],\n",
              "        ...,\n",
              "        [0, 0, 0, ..., 0, 0, 0],\n",
              "        [0, 0, 0, ..., 0, 0, 0],\n",
              "        [0, 0, 0, ..., 0, 0, 0]],\n",
              "\n",
              "       ...,\n",
              "\n",
              "       [[0, 0, 0, ..., 0, 0, 0],\n",
              "        [0, 0, 0, ..., 0, 0, 0],\n",
              "        [0, 0, 0, ..., 0, 0, 0],\n",
              "        ...,\n",
              "        [0, 0, 0, ..., 0, 0, 0],\n",
              "        [0, 0, 0, ..., 0, 0, 0],\n",
              "        [0, 0, 0, ..., 0, 0, 0]],\n",
              "\n",
              "       [[0, 0, 0, ..., 0, 0, 0],\n",
              "        [0, 0, 0, ..., 0, 0, 0],\n",
              "        [0, 0, 0, ..., 0, 0, 0],\n",
              "        ...,\n",
              "        [0, 0, 0, ..., 0, 0, 0],\n",
              "        [0, 0, 0, ..., 0, 0, 0],\n",
              "        [0, 0, 0, ..., 0, 0, 0]],\n",
              "\n",
              "       [[0, 0, 0, ..., 0, 0, 0],\n",
              "        [0, 0, 0, ..., 0, 0, 0],\n",
              "        [0, 0, 0, ..., 0, 0, 0],\n",
              "        ...,\n",
              "        [0, 0, 0, ..., 0, 0, 0],\n",
              "        [0, 0, 0, ..., 0, 0, 0],\n",
              "        [0, 0, 0, ..., 0, 0, 0]]], dtype=uint8)"
            ]
          },
          "metadata": {},
          "execution_count": 3
        }
      ]
    },
    {
      "cell_type": "code",
      "source": [
        "train_labels"
      ],
      "metadata": {
        "colab": {
          "base_uri": "https://localhost:8080/"
        },
        "id": "l2qg43YoHE75",
        "outputId": "a9a059af-868f-428b-fb1a-215bec601de8"
      },
      "execution_count": null,
      "outputs": [
        {
          "output_type": "execute_result",
          "data": {
            "text/plain": [
              "array([5, 0, 4, ..., 5, 6, 8], dtype=uint8)"
            ]
          },
          "metadata": {},
          "execution_count": 4
        }
      ]
    },
    {
      "cell_type": "code",
      "source": [
        "#reshape and normalize input images\n",
        "train_images = train_images.reshape((60000, 28, 28, 1))\n",
        "train_images = train_images.astype('float32') / 255\n",
        "test_images = test_images.reshape((10000, 28, 28, 1))\n",
        "test_images = test_images.astype('float32') / 255"
      ],
      "metadata": {
        "id": "XeuI9nQMHGbA"
      },
      "execution_count": null,
      "outputs": []
    },
    {
      "cell_type": "code",
      "source": [
        "import tensorflow as tf\n",
        "from keras.utils import to_categorical"
      ],
      "metadata": {
        "id": "_aUIu9K-Hdl2"
      },
      "execution_count": null,
      "outputs": []
    },
    {
      "cell_type": "code",
      "source": [
        "train_labels = to_categorical(train_labels)\n",
        "test_labels =to_categorical(test_labels)"
      ],
      "metadata": {
        "id": "qe1uA-4RHIxB"
      },
      "execution_count": null,
      "outputs": []
    },
    {
      "cell_type": "code",
      "source": [
        "import matplotlib.pyplot as plt\n",
        "import random\n",
        "indices = random.sample(range(train_images.shape[0]), 9)\n",
        "fig, axes = plt.subplots(3, 3, figsize=(8, 8))\n",
        "for i, index in enumerate(indices):\n",
        "    ax = axes.flatten()[i]\n",
        "    ax.imshow(train_images[index].squeeze(), cmap='gray')\n",
        "    ax.set_title(f\"Label: {train_labels[index].argmax()}\")\n",
        "    ax.axis('off')\n",
        "plt.tight_layout()\n",
        "plt.show()"
      ],
      "metadata": {
        "colab": {
          "base_uri": "https://localhost:8080/",
          "height": 807
        },
        "id": "GuE6LBbeHM2u",
        "outputId": "9e8f1b38-d103-4e8a-9120-d4a583a399e2"
      },
      "execution_count": null,
      "outputs": [
        {
          "output_type": "display_data",
          "data": {
            "text/plain": [
              "<Figure size 800x800 with 9 Axes>"
            ],
            "image/png": "[encoded data removed]"
          },
          "metadata": {}
        }
      ]
    },
    {
      "cell_type": "code",
      "source": [
        "from sklearn.preprocessing import StandardScaler\n",
        "\n",
        "train_images_2d = train_images.reshape(train_images.shape[0], -1)\n",
        "test_images_2d = test_images.reshape(test_images.shape[0], -1)\n",
        "\n",
        "scaler = StandardScaler()\n",
        "train_images_scaled = scaler.fit_transform(train_images_2d)\n",
        "test_images_scaled = scaler.transform(test_images_2d)\n",
        "\n",
        "train_images_scaled = train_images_scaled.reshape(train_images.shape)\n",
        "test_images_scaled = test_images_scaled.reshape(test_images.shape)"
      ],
      "metadata": {
        "id": "PJYHRE2PII7G"
      },
      "execution_count": null,
      "outputs": []
    },
    {
      "cell_type": "code",
      "source": [
        "from sklearn.preprocessing import StandardScaler\n",
        "\n",
        "scaler = StandardScaler()\n",
        "train_images = scaler.fit_transform(train_images.reshape(-1, 28*28))\n",
        "test_images = scaler.transform(test_images.reshape(-1, 28*28))\n"
      ],
      "metadata": {
        "id": "1ikZxuQIKFWw"
      },
      "execution_count": null,
      "outputs": []
    },
    {
      "cell_type": "code",
      "source": [
        "train_images_scaled.shape"
      ],
      "metadata": {
        "colab": {
          "base_uri": "https://localhost:8080/"
        },
        "id": "DHXrcPwcN99u",
        "outputId": "dc3576fb-e2cb-4871-806a-3048fda32eed"
      },
      "execution_count": null,
      "outputs": [
        {
          "output_type": "execute_result",
          "data": {
            "text/plain": [
              "(60000, 28, 28, 1)"
            ]
          },
          "metadata": {},
          "execution_count": 10
        }
      ]
    },
    {
      "cell_type": "code",
      "source": [
        "import numpy as np"
      ],
      "metadata": {
        "id": "yUX8leSoJyB2"
      },
      "execution_count": null,
      "outputs": []
    },
    {
      "cell_type": "code",
      "source": [
        "def train_rbf_network(X, y, num_centers, sigma, eta1, eta2, epochs):\n",
        "    # Flatten images to shape (num_samples, 784) if not already flattened\n",
        "    X = X.reshape(X.shape[0], -1)\n",
        "\n",
        "    # Initialize centers and weights\n",
        "    centers = np.random.randn(num_centers, X.shape[1])\n",
        "      # Shape: (num_centers, 784)\n",
        "    weights = np.random.randn(num_centers, 1)  # Shape: (num_centers, 1) # Modified line to make weights a column vector\n",
        "\n",
        "    for epoch in range(epochs):\n",
        "        mse = 0\n",
        "        for i in range(X.shape[0]):\n",
        "            # Forward pass: compute activations\n",
        "            activations = np.array([gaussian_rbf(X[i], center, sigma) for center in centers])  # Shape: (num_centers,)\n",
        "            y_pred = np.dot(activations, weights)  # Predicted output (scalar)\n",
        "\n",
        "            # Compute the error\n",
        "            error = y[i] - y_pred  # Scalar error\n",
        "            mse += error**2\n",
        "\n",
        "            # Update centers and weights using gradient descent\n",
        "            for j in range(num_centers):\n",
        "                # Update centers[j] (shape: 784,) and weights[j] (scalar)\n",
        "                centers[j] += eta1 * error * weights[j,0] * (X[i] - centers[j]) / sigma**2 # Extract the scalar value from weights\n",
        "                weights[j] += eta2 * error * activations[j]\n",
        "\n",
        "        mse /= X.shape[0]  # Mean Squared Error for the epoch\n",
        "        print(f\"Epoch {epoch+1}, MSE: {mse}\")"
      ],
      "metadata": {
        "id": "TaHhTXYmJng_"
      },
      "execution_count": null,
      "outputs": []
    },
    {
      "cell_type": "code",
      "source": [
        "train_rbf_network(train_images_scaled.reshape(train_images_scaled.shape[0], -1), train_labels, num_centers=100, sigma=1.0, eta1=0.01, eta2=0.01, epochs=10)"
      ],
      "metadata": {
        "colab": {
          "base_uri": "https://localhost:8080/",
          "height": 323
        },
        "id": "GnIcdsUSK7HU",
        "outputId": "16e5b0cf-5642-41bc-c3ab-16539327eeb0"
      },
      "execution_count": null,
      "outputs": [
        {
          "output_type": "error",
          "ename": "ValueError",
          "evalue": "operands could not be broadcast together with shapes (10,) (784,) ",
          "traceback": [
            "\u001b[0;31m---------------------------------------------------------------------------\u001b[0m",
            "\u001b[0;31mValueError\u001b[0m                                Traceback (most recent call last)",
            "\u001b[0;32m<ipython-input-28-f83142048c73>\u001b[0m in \u001b[0;36m<cell line: 1>\u001b[0;34m()\u001b[0m\n\u001b[0;32m----> 1\u001b[0;31m \u001b[0mtrain_rbf_network\u001b[0m\u001b[0;34m(\u001b[0m\u001b[0mtrain_images_scaled\u001b[0m\u001b[0;34m.\u001b[0m\u001b[0mreshape\u001b[0m\u001b[0;34m(\u001b[0m\u001b[0mtrain_images_scaled\u001b[0m\u001b[0;34m.\u001b[0m\u001b[0mshape\u001b[0m\u001b[0;34m[\u001b[0m\u001b[0;36m0\u001b[0m\u001b[0;34m]\u001b[0m\u001b[0;34m,\u001b[0m \u001b[0;34m-\u001b[0m\u001b[0;36m1\u001b[0m\u001b[0;34m)\u001b[0m\u001b[0;34m,\u001b[0m \u001b[0mtrain_labels\u001b[0m\u001b[0;34m,\u001b[0m \u001b[0mnum_centers\u001b[0m\u001b[0;34m=\u001b[0m\u001b[0;36m100\u001b[0m\u001b[0;34m,\u001b[0m \u001b[0msigma\u001b[0m\u001b[0;34m=\u001b[0m\u001b[0;36m1.0\u001b[0m\u001b[0;34m,\u001b[0m \u001b[0meta1\u001b[0m\u001b[0;34m=\u001b[0m\u001b[0;36m0.01\u001b[0m\u001b[0;34m,\u001b[0m \u001b[0meta2\u001b[0m\u001b[0;34m=\u001b[0m\u001b[0;36m0.01\u001b[0m\u001b[0;34m,\u001b[0m \u001b[0mepochs\u001b[0m\u001b[0;34m=\u001b[0m\u001b[0;36m10\u001b[0m\u001b[0;34m)\u001b[0m\u001b[0;34m\u001b[0m\u001b[0;34m\u001b[0m\u001b[0m\n\u001b[0m",
            "\u001b[0;32m<ipython-input-25-d3013a975499>\u001b[0m in \u001b[0;36mtrain_rbf_network\u001b[0;34m(X, y, num_centers, sigma, eta1, eta2, epochs)\u001b[0m\n\u001b[1;32m     21\u001b[0m             \u001b[0;32mfor\u001b[0m \u001b[0mj\u001b[0m \u001b[0;32min\u001b[0m \u001b[0mrange\u001b[0m\u001b[0;34m(\u001b[0m\u001b[0mnum_centers\u001b[0m\u001b[0;34m)\u001b[0m\u001b[0;34m:\u001b[0m\u001b[0;34m\u001b[0m\u001b[0;34m\u001b[0m\u001b[0m\n\u001b[1;32m     22\u001b[0m                 \u001b[0;31m# Update centers[j] (shape: 784,) and weights[j] (scalar)\u001b[0m\u001b[0;34m\u001b[0m\u001b[0;34m\u001b[0m\u001b[0m\n\u001b[0;32m---> 23\u001b[0;31m                 \u001b[0mcenters\u001b[0m\u001b[0;34m[\u001b[0m\u001b[0mj\u001b[0m\u001b[0;34m]\u001b[0m \u001b[0;34m+=\u001b[0m \u001b[0meta1\u001b[0m \u001b[0;34m*\u001b[0m \u001b[0merror\u001b[0m \u001b[0;34m*\u001b[0m \u001b[0mweights\u001b[0m\u001b[0;34m[\u001b[0m\u001b[0mj\u001b[0m\u001b[0;34m,\u001b[0m\u001b[0;36m0\u001b[0m\u001b[0;34m]\u001b[0m \u001b[0;34m*\u001b[0m \u001b[0;34m(\u001b[0m\u001b[0mX\u001b[0m\u001b[0;34m[\u001b[0m\u001b[0mi\u001b[0m\u001b[0;34m]\u001b[0m \u001b[0;34m-\u001b[0m \u001b[0mcenters\u001b[0m\u001b[0;34m[\u001b[0m\u001b[0mj\u001b[0m\u001b[0;34m]\u001b[0m\u001b[0;34m)\u001b[0m \u001b[0;34m/\u001b[0m \u001b[0msigma\u001b[0m\u001b[0;34m**\u001b[0m\u001b[0;36m2\u001b[0m \u001b[0;31m# Extract the scalar value from weights\u001b[0m\u001b[0;34m\u001b[0m\u001b[0;34m\u001b[0m\u001b[0m\n\u001b[0m\u001b[1;32m     24\u001b[0m                 \u001b[0mweights\u001b[0m\u001b[0;34m[\u001b[0m\u001b[0mj\u001b[0m\u001b[0;34m]\u001b[0m \u001b[0;34m+=\u001b[0m \u001b[0meta2\u001b[0m \u001b[0;34m*\u001b[0m \u001b[0merror\u001b[0m \u001b[0;34m*\u001b[0m \u001b[0mactivations\u001b[0m\u001b[0;34m[\u001b[0m\u001b[0mj\u001b[0m\u001b[0;34m]\u001b[0m\u001b[0;34m\u001b[0m\u001b[0;34m\u001b[0m\u001b[0m\n\u001b[1;32m     25\u001b[0m \u001b[0;34m\u001b[0m\u001b[0m\n",
            "\u001b[0;31mValueError\u001b[0m: operands could not be broadcast together with shapes (10,) (784,) "
          ]
        }
      ]
    },
    {
      "cell_type": "code",
      "source": [
        "train_images_scaled.shape"
      ],
      "metadata": {
        "colab": {
          "base_uri": "https://localhost:8080/"
        },
        "id": "ykcPerKuM0AV",
        "outputId": "d03b0cf8-d8a4-48bb-eddc-796cf1c711ff"
      },
      "execution_count": null,
      "outputs": [
        {
          "output_type": "execute_result",
          "data": {
            "text/plain": [
              "(60000, 28, 28, 1)"
            ]
          },
          "metadata": {},
          "execution_count": 27
        }
      ]
    },
    {
      "cell_type": "code",
      "source": [
        "import tensorflow as tf\n",
        "from keras.models import Sequential\n",
        "from keras.layers import Dense, Flatten\n",
        "from keras import layers\n",
        "from keras import activations\n",
        "from sklearn.cluster import KMeans\n",
        "num_centers = 128\n",
        "\n",
        "train_images_flat = train_images_scaled.reshape(train_images_scaled.shape[0], -1)\n",
        "\n",
        "kmeans = KMeans(n_clusters=num_centers, random_state=0).fit(train_images_flat)\n",
        "centers = kmeans.cluster_centers_\n",
        "\n",
        "distances_to_centers = kmeans.transform(train_images_flat)\n",
        "avg_distances = distances_to_centers.mean(axis=0)\n",
        "\n",
        "def gaussian_activation(x):\n",
        "  distances = tf.reduce_sum(tf.square(tf.expand_dims(x, axis=1) - centers), axis=2)\n",
        "  beta = 1.0 / (2 * tf.square(avg_distances))\n",
        "  return tf.exp(-beta * distances)\n",
        "\n",
        "\n",
        "model_rbf = Sequential()\n",
        "model_rbf.add(Flatten(input_shape=(28, 28, 1)))\n",
        "model_rbf.add(layers.Lambda(gaussian_activation))\n",
        "model_rbf.add(Dense(10, activation='softmax'))\n",
        "\n",
        "model_rbf.compile(optimizer='adam', loss='mse', metrics=['accuracy'])"
      ],
      "metadata": {
        "colab": {
          "base_uri": "https://localhost:8080/"
        },
        "id": "DNR4oZgUL6wn",
        "outputId": "945391ec-1066-4f9f-813c-32f863d3a53d"
      },
      "execution_count": null,
      "outputs": [
        {
          "output_type": "stream",
          "name": "stderr",
          "text": [
            "/usr/local/lib/python3.10/dist-packages/sklearn/cluster/_kmeans.py:1416: FutureWarning: The default value of `n_init` will change from 10 to 'auto' in 1.4. Set the value of `n_init` explicitly to suppress the warning\n",
            "  super()._check_params_vs_input(X, default_n_init=10)\n"
          ]
        }
      ]
    },
    {
      "cell_type": "code",
      "source": [
        "model_rbf.fit(train_images_scaled[:45000], train_labels[:45000], epochs=10, batch_size=32, validation_data=(train_images_scaled[45000:], train_labels[45000:]))"
      ],
      "metadata": {
        "colab": {
          "base_uri": "https://localhost:8080/"
        },
        "id": "whyY-MtmNRuv",
        "outputId": "31fae07a-2651-4f5c-e183-b98b03b4a8e3"
      },
      "execution_count": null,
      "outputs": [
        {
          "output_type": "stream",
          "name": "stdout",
          "text": [
            "Epoch 1/10\n",
            "1407/1407 [==============================] - 5s 3ms/step - loss: 0.0864 - accuracy: 0.2406 - val_loss: 0.0825 - val_accuracy: 0.3071\n",
            "Epoch 2/10\n",
            "1407/1407 [==============================] - 4s 3ms/step - loss: 0.0795 - accuracy: 0.3644 - val_loss: 0.0762 - val_accuracy: 0.4263\n",
            "Epoch 3/10\n",
            "1407/1407 [==============================] - 4s 3ms/step - loss: 0.0742 - accuracy: 0.4391 - val_loss: 0.0719 - val_accuracy: 0.4169\n",
            "Epoch 4/10\n",
            "1407/1407 [==============================] - 4s 3ms/step - loss: 0.0699 - accuracy: 0.4893 - val_loss: 0.0676 - val_accuracy: 0.5077\n",
            "Epoch 5/10\n",
            "1407/1407 [==============================] - 4s 3ms/step - loss: 0.0664 - accuracy: 0.5305 - val_loss: 0.0640 - val_accuracy: 0.5525\n",
            "Epoch 6/10\n",
            "1407/1407 [==============================] - 4s 3ms/step - loss: 0.0634 - accuracy: 0.5652 - val_loss: 0.0614 - val_accuracy: 0.6054\n",
            "Epoch 7/10\n",
            "1407/1407 [==============================] - 4s 3ms/step - loss: 0.0610 - accuracy: 0.5892 - val_loss: 0.0590 - val_accuracy: 0.5962\n",
            "Epoch 8/10\n",
            "1407/1407 [==============================] - 4s 3ms/step - loss: 0.0588 - accuracy: 0.6146 - val_loss: 0.0568 - val_accuracy: 0.6362\n",
            "Epoch 9/10\n",
            "1407/1407 [==============================] - 4s 3ms/step - loss: 0.0569 - accuracy: 0.6300 - val_loss: 0.0552 - val_accuracy: 0.6356\n",
            "Epoch 10/10\n",
            "1407/1407 [==============================] - 4s 3ms/step - loss: 0.0553 - accuracy: 0.6414 - val_loss: 0.0534 - val_accuracy: 0.6678\n"
          ]
        },
        {
          "output_type": "execute_result",
          "data": {
            "text/plain": [
              "<keras.src.callbacks.History at 0x7b81242cdd20>"
            ]
          },
          "metadata": {},
          "execution_count": 32
        }
      ]
    },
    {
      "cell_type": "code",
      "source": [
        "def rbf(x, c, sigma):\n",
        "    return np.exp(-np.linalg.norm(x - c) ** 2 / (2 * sigma ** 2))\n",
        "\n",
        "for epoch in range(n_epochs):\n",
        "    G_train = compute_activations(X_train, centers, sigma)\n",
        "    y_pred = G_train.dot(weights)\n",
        "\n",
        "    # Compute the error\n",
        "    error = y_pred - y_train\n",
        "    mse = mean_squared_error(y_train, y_pred)\n",
        "\n",
        "    # Gradient for weights\n",
        "    grad_weights = G_train.T.dot(error) / X_train.shape[0]\n",
        "\n",
        "    # Update weights\n",
        "    weights -= learning_rate_weights * grad_weights\n",
        "\n",
        "    # Gradient for centers\n",
        "    for j in range(n_centers):\n",
        "        grad_centers = np.zeros(n_features)\n",
        "        for i in range(X_train.shape[0]):\n",
        "            grad_centers += error[i] * weights[j] * G_train[i, j] * (X_train[i] - centers[j]) / (sigma ** 2)\n",
        "        grad_centers /= X_train.shape[0]\n",
        "\n",
        "        # Update centers\n",
        "        centers[j] -= learning_rate_centers * grad_centers\n",
        "\n",
        "    if epoch % 10 == 0:\n",
        "        print(f'Epoch {epoch}, MSE: {mse}')"
      ],
      "metadata": {
        "id": "gwDpOXWnZLUq"
      },
      "execution_count": null,
      "outputs": []
    },
    {
      "cell_type": "code",
      "source": [
        "features=train_images_scaled.shape[1]"
      ],
      "metadata": {
        "id": "5uDdo6cpbW_Q"
      },
      "execution_count": null,
      "outputs": []
    },
    {
      "cell_type": "code",
      "source": [
        "features"
      ],
      "metadata": {
        "colab": {
          "base_uri": "https://localhost:8080/"
        },
        "id": "86BEJnBrbhM8",
        "outputId": "36fed2de-5cc5-4c4c-bd1f-74a909e69b67"
      },
      "execution_count": null,
      "outputs": [
        {
          "output_type": "execute_result",
          "data": {
            "text/plain": [
              "28"
            ]
          },
          "metadata": {},
          "execution_count": 30
        }
      ]
    },
    {
      "cell_type": "code",
      "source": [
        "import tensorflow as tf\n",
        "from keras.models import Sequential\n",
        "from keras.layers import Dense, Flatten\n",
        "from keras import layers\n",
        "from keras import activations\n",
        "from sklearn.cluster import KMeans\n",
        "import numpy as np\n",
        "from sklearn.metrics import mean_squared_error, accuracy_score\n",
        "num_centers = 10\n",
        "\n",
        "train_images_flat = train_images_scaled.reshape(train_images_scaled.shape[0], -1)\n",
        "\n",
        "kmeans = KMeans(n_clusters=num_centers, random_state=0).fit(train_images_flat)\n",
        "centers = kmeans.cluster_centers_\n",
        "sigma = np.std(train_images_flat)\n",
        "weights = np.random.randn(10)\n",
        "learning_rate_centers = 0.01\n",
        "learning_rate_weights = 0.01\n",
        "n_epochs = 100\n",
        "def rbf(x, c, sigma):\n",
        "    return np.exp(-np.linalg.norm(x - c) ** 2 / (2 * sigma ** 2))\n",
        "def compute_activations(X, centers, sigma):\n",
        "    G = np.zeros((X.shape[0], len(centers)))\n",
        "    for i, x in enumerate(X):\n",
        "        for j, c in enumerate(centers):\n",
        "            G[i, j] = rbf(x, c, sigma)\n",
        "    return G\n",
        "for epoch in range(n_epochs):\n",
        "    G_train = compute_activations(train_images_scaled, centers, sigma)\n",
        "    y_pred = G_train.dot(weights)\n",
        "\n",
        "\n",
        "    error = y_pred - test_images_scaled\n",
        "    mse = mean_squared_error(test_images_scaled, y_pred)\n",
        "\n",
        "\n",
        "    grad_weights = G_train.T.dot(error) / train_images_scaled.shape[0]\n",
        "\n",
        "\n",
        "    weights -= learning_rate_weights * grad_weights\n",
        "\n",
        "\n",
        "    for j in range(10):\n",
        "        grad_centers = np.zeros(features)\n",
        "        for i in range(train_images_scaled.shape[0]):\n",
        "            grad_centers += error[i] * weights[j] * G_train[i, j] * (train_images_scaled[i] - centers[j]) / (sigma ** 2)\n",
        "        grad_centers /= train_images_scaled.shape[0]\n",
        "\n",
        "\n",
        "        centers[j] -= learning_rate_centers * grad_centers\n",
        "\n",
        "    if epoch % 10 == 0:\n",
        "        print(f'Epoch {epoch}, MSE: {mse}')\n",
        "\n",
        "# distances_to_centers = kmeans.transform(train_images_flat)\n",
        "# avg_distances = distances_to_centers.mean(axis=0)\n",
        "\n",
        "# def gaussian_activation(x):\n",
        "#   distances = tf.reduce_sum(tf.square(tf.expand_dims(x, axis=1) - centers), axis=2)\n",
        "#   beta = 1.0 / (2 * tf.square(avg_distances))\n",
        "#   return tf.exp(-beta * distances)\n",
        "\n",
        "\n",
        "# model_rbf = Sequential()\n",
        "# model_rbf.add(Flatten(input_shape=(28, 28, 1)))\n",
        "# model_rbf.add(layers.Lambda(gaussian_activation))\n",
        "# model_rbf.add(Dense(10, activation='softmax'))\n",
        "\n",
        "# model_rbf.compile(optimizer='adam', loss='categorical_crossentropy', metrics=['accuracy'])"
      ],
      "metadata": {
        "id": "YyOY0l_kZMoo"
      },
      "execution_count": null,
      "outputs": []
    },
    {
      "cell_type": "code",
      "source": [
        "train_images_scaled.shape"
      ],
      "metadata": {
        "colab": {
          "base_uri": "https://localhost:8080/"
        },
        "id": "fwDbVK_rOUuG",
        "outputId": "baeace6c-6d6a-452c-8637-11c8e195e470"
      },
      "execution_count": null,
      "outputs": [
        {
          "output_type": "execute_result",
          "data": {
            "text/plain": [
              "(60000, 28, 28, 1)"
            ]
          },
          "metadata": {},
          "execution_count": 22
        }
      ]
    },
    {
      "cell_type": "code",
      "source": [
        "model_rbf.evaluate(test_images_scaled, test_labels)"
      ],
      "metadata": {
        "colab": {
          "base_uri": "https://localhost:8080/"
        },
        "id": "raUBk_lEUqew",
        "outputId": "e0e648f8-4dd8-4949-86f3-216b69ce76d1"
      },
      "execution_count": null,
      "outputs": [
        {
          "output_type": "stream",
          "name": "stdout",
          "text": [
            "313/313 [==============================] - 1s 2ms/step - loss: 0.8900 - accuracy: 0.7555\n"
          ]
        },
        {
          "output_type": "execute_result",
          "data": {
            "text/plain": [
              "[0.8899587988853455, 0.7555000185966492]"
            ]
          },
          "metadata": {},
          "execution_count": 24
        }
      ]
    },
    {
      "cell_type": "code",
      "source": [
        "from sklearn.metrics import confusion_matrix,classification_report\n",
        "import seaborn as sns\n",
        "import numpy as np\n",
        "import matplotlib.pyplot as plt\n",
        "y_pred = model_rbf.predict(test_images_scaled)\n",
        "y_pred = np.argmax(y_pred, axis=1)\n",
        "y_true = np.argmax(test_labels, axis=1)\n",
        "\n",
        "\n",
        "\n",
        "\n",
        "\n",
        "\n",
        "\n",
        "\n",
        "\n",
        "\n",
        "\n",
        "\n"
      ],
      "metadata": {
        "colab": {
          "base_uri": "https://localhost:8080/"
        },
        "id": "2wxVNXV4VK3I",
        "outputId": "b720446f-6d82-4280-da49-d351b7d540e2"
      },
      "execution_count": null,
      "outputs": [
        {
          "output_type": "stream",
          "name": "stdout",
          "text": [
            "313/313 [==============================] - 1s 2ms/step\n"
          ]
        }
      ]
    },
    {
      "cell_type": "code",
      "source": [
        "confusion_matrix(y_true, y_pred)"
      ],
      "metadata": {
        "colab": {
          "base_uri": "https://localhost:8080/"
        },
        "id": "sBZA4foXVbvB",
        "outputId": "0b94409c-f7ca-4e19-f310-5f8b0d434f46"
      },
      "execution_count": null,
      "outputs": [
        {
          "output_type": "execute_result",
          "data": {
            "text/plain": [
              "array([[ 874,    1,   13,    6,    0,   15,   31,    2,   37,    1],\n",
              "       [   0, 1071,   33,    7,    1,    1,    5,    0,   17,    0],\n",
              "       [  23,   20,  838,   33,   16,    0,   42,   19,   39,    2],\n",
              "       [   4,   31,   78,  787,    1,    6,    4,   49,   39,   11],\n",
              "       [  11,   31,   18,    0,  756,    4,   18,   37,    6,  101],\n",
              "       [  30,   26,   24,  178,   38,  414,   28,   49,   85,   20],\n",
              "       [  22,   24,   31,    0,   11,   13,  850,    1,    6,    0],\n",
              "       [   2,   38,   12,    6,   15,    1,    3,  900,   14,   37],\n",
              "       [  37,   58,   31,   97,   19,   53,   21,   33,  596,   29],\n",
              "       [  15,   24,    8,    8,  207,    1,    4,  263,   10,  469]])"
            ]
          },
          "metadata": {},
          "execution_count": 26
        }
      ]
    },
    {
      "cell_type": "code",
      "source": [
        "import tensorflow as tf\n",
        "from keras.models import Sequential\n",
        "from keras.layers import Dense, Flatten\n",
        "from keras import layers\n",
        "from keras import activations\n",
        "from sklearn.cluster import KMeans\n",
        "num_centers = 128\n",
        "\n",
        "train_images_flat = train_images_scaled.reshape(train_images_scaled.shape[0], -1)\n",
        "\n",
        "kmeans = KMeans(n_clusters=num_centers, random_state=0).fit(train_images_flat)\n",
        "centers = kmeans.cluster_centers_\n",
        "\n",
        "distances_to_centers = kmeans.transform(train_images_flat)\n",
        "avg_distances = distances_to_centers.mean(axis=0)\n",
        "\n",
        "def gaussian_activation(x):\n",
        "  distances = tf.reduce_sum(tf.square(tf.expand_dims(x, axis=1) - centers), axis=2)\n",
        "  beta = 1.0 / (2 * tf.square(avg_distances))\n",
        "  return tf.exp(-beta * distances)\n",
        "\n",
        "\n",
        "model_rbf = Sequential()\n",
        "model_rbf.add(Flatten(input_shape=(28, 28, 1)))\n",
        "model_rbf.add(layers.Lambda(gaussian_activation))\n",
        "model_rbf.add(Dense(10, activation='softmax'))\n",
        "\n",
        "model_rbf.compile(optimizer='adam', loss='mse', metrics=['accuracy'])"
      ],
      "metadata": {
        "colab": {
          "base_uri": "https://localhost:8080/"
        },
        "id": "VyooXqamWOAI",
        "outputId": "6a2266a8-8065-41e8-8968-b6bccf2a7df2"
      },
      "execution_count": null,
      "outputs": [
        {
          "output_type": "stream",
          "name": "stderr",
          "text": [
            "/usr/local/lib/python3.10/dist-packages/sklearn/cluster/_kmeans.py:1416: FutureWarning: The default value of `n_init` will change from 10 to 'auto' in 1.4. Set the value of `n_init` explicitly to suppress the warning\n",
            "  super()._check_params_vs_input(X, default_n_init=10)\n"
          ]
        }
      ]
    },
    {
      "cell_type": "code",
      "source": [
        "import numpy as np\n",
        "from keras.datasets import mnist\n",
        "from keras.utils import to_categorical\n",
        "from sklearn.cluster import KMeans\n",
        "import matplotlib.pyplot as plt\n",
        "\n",
        "# Load and preprocess MNIST data\n",
        "def load_data():\n",
        "    (train_images, train_labels), (test_images, test_labels) = mnist.load_data()\n",
        "\n",
        "    # Reshape and normalize\n",
        "    train_images = train_images.reshape((60000, 28*28)).astype('float32') / 255\n",
        "    test_images = test_images.reshape((10000, 28*28)).astype('float32') / 255\n",
        "\n",
        "    # Convert labels to categorical\n",
        "    train_labels = to_categorical(train_labels)\n",
        "    test_labels = to_categorical(test_labels)\n",
        "\n",
        "    return train_images, train_labels, test_images, test_labels\n",
        "\n",
        "class RBFNetwork:\n",
        "    def __init__(self, input_dim, hidden_dim, output_dim, sigma=1.0):\n",
        "        self.input_dim = input_dim\n",
        "        self.hidden_dim = hidden_dim\n",
        "        self.output_dim = output_dim\n",
        "        self.sigma = sigma\n",
        "\n",
        "        # Initialize centers and weights\n",
        "        self.centers = np.random.randn(hidden_dim, input_dim)\n",
        "        self.weights = np.random.randn(hidden_dim, output_dim)\n",
        "\n",
        "    def gaussian(self, X):\n",
        "        # Compute pairwise squared Euclidean distances\n",
        "        X_squared = np.sum(X**2, axis=1, keepdims=True)\n",
        "        centers_squared = np.sum(self.centers**2, axis=1)\n",
        "        distances = X_squared - 2 * np.dot(X, self.centers.T) + centers_squared\n",
        "        return np.exp(-distances / (2 * self.sigma**2))\n",
        "\n",
        "    def forward(self, X):\n",
        "        # Compute RBF activations\n",
        "        G = self.gaussian(X)\n",
        "        # Compute output\n",
        "        return np.dot(G, self.weights)\n",
        "\n",
        "    def train(self, X, y, epochs, batch_size=32, lr_centers=0.01, lr_weights=0.01):\n",
        "        mse_history = []\n",
        "        n_samples = X.shape[0]\n",
        "        n_batches = n_samples // batch_size\n",
        "\n",
        "        for epoch in range(epochs):\n",
        "            # Shuffle the data\n",
        "            indices = np.random.permutation(n_samples)\n",
        "            X, y = X[indices], y[indices]\n",
        "\n",
        "            epoch_mse = 0\n",
        "            for batch in range(n_batches):\n",
        "                start = batch * batch_size\n",
        "                end = start + batch_size\n",
        "                X_batch, y_batch = X[start:end], y[start:end]\n",
        "\n",
        "                y_pred = self.forward(X_batch)\n",
        "                error = y_batch - y_pred\n",
        "\n",
        "                # Compute RBF activations\n",
        "                G = self.gaussian(X_batch)\n",
        "\n",
        "                # Update weights\n",
        "                self.weights += lr_weights * np.dot(G.T, error)\n",
        "\n",
        "                # Update centers\n",
        "                for j in range(self.hidden_dim):\n",
        "                    dE_dc = np.sum(\n",
        "                        (error * self.weights[j]) * G[:, j].reshape(-1, 1) *\n",
        "                        ((X_batch - self.centers[j]) / self.sigma**2),\n",
        "                        axis=0\n",
        "                    )\n",
        "                    self.centers[j] += lr_centers * dE_dc\n",
        "\n",
        "                batch_mse = np.mean(np.square(error))\n",
        "                epoch_mse += batch_mse\n",
        "\n",
        "            epoch_mse /= n_batches\n",
        "            mse_history.append(epoch_mse)\n",
        "\n",
        "            if epoch % 10 == 0:\n",
        "                print(f\"Epoch {epoch}, MSE: {epoch_mse}\")\n",
        "\n",
        "        return mse_history\n",
        "\n",
        "# Load and preprocess data\n",
        "X_train, y_train, X_test, y_test = load_data()\n",
        "\n",
        "# Initialize and train RBF network\n",
        "input_dim = 28*28\n",
        "hidden_dim = 100  # Number of RBF units\n",
        "output_dim = 10  # Number of classes\n",
        "\n",
        "rbf_net = RBFNetwork(input_dim, hidden_dim, output_dim)\n",
        "mse_history = rbf_net.train(X_train, y_train, epochs=100)\n",
        "\n",
        "# Plot MSE history\n",
        "plt.plot(mse_history)\n",
        "plt.title('Mean Squared Error over Epochs')\n",
        "plt.xlabel('Epoch')\n",
        "plt.ylabel('MSE')\n",
        "plt.show()\n",
        "\n",
        "# Evaluate on test set\n",
        "y_pred = rbf_net.forward(X_test)\n",
        "accuracy = np.mean(np.argmax(y_pred, axis=1) == np.argmax(y_test, axis=1))\n",
        "print(f\"Test accuracy: {accuracy}\")"
      ],
      "metadata": {
        "id": "ShFugjrbchtJ",
        "colab": {
          "base_uri": "https://localhost:8080/",
          "height": 358
        },
        "outputId": "fb5d233d-1701-44a5-a181-ef7f33459d3a"
      },
      "execution_count": null,
      "outputs": [
        {
          "output_type": "error",
          "ename": "ValueError",
          "evalue": "operands could not be broadcast together with shapes (32,10) (32,784) ",
          "traceback": [
            "\u001b[0;31m---------------------------------------------------------------------------\u001b[0m",
            "\u001b[0;31mValueError\u001b[0m                                Traceback (most recent call last)",
            "\u001b[0;32m<ipython-input-30-ae2f2f4ab5ac>\u001b[0m in \u001b[0;36m<cell line: 99>\u001b[0;34m()\u001b[0m\n\u001b[1;32m     97\u001b[0m \u001b[0;34m\u001b[0m\u001b[0m\n\u001b[1;32m     98\u001b[0m \u001b[0mrbf_net\u001b[0m \u001b[0;34m=\u001b[0m \u001b[0mRBFNetwork\u001b[0m\u001b[0;34m(\u001b[0m\u001b[0minput_dim\u001b[0m\u001b[0;34m,\u001b[0m \u001b[0mhidden_dim\u001b[0m\u001b[0;34m,\u001b[0m \u001b[0moutput_dim\u001b[0m\u001b[0;34m)\u001b[0m\u001b[0;34m\u001b[0m\u001b[0;34m\u001b[0m\u001b[0m\n\u001b[0;32m---> 99\u001b[0;31m \u001b[0mmse_history\u001b[0m \u001b[0;34m=\u001b[0m \u001b[0mrbf_net\u001b[0m\u001b[0;34m.\u001b[0m\u001b[0mtrain\u001b[0m\u001b[0;34m(\u001b[0m\u001b[0mX_train\u001b[0m\u001b[0;34m,\u001b[0m \u001b[0my_train\u001b[0m\u001b[0;34m,\u001b[0m \u001b[0mepochs\u001b[0m\u001b[0;34m=\u001b[0m\u001b[0;36m100\u001b[0m\u001b[0;34m)\u001b[0m\u001b[0;34m\u001b[0m\u001b[0;34m\u001b[0m\u001b[0m\n\u001b[0m\u001b[1;32m    100\u001b[0m \u001b[0;34m\u001b[0m\u001b[0m\n\u001b[1;32m    101\u001b[0m \u001b[0;31m# Plot MSE history\u001b[0m\u001b[0;34m\u001b[0m\u001b[0;34m\u001b[0m\u001b[0m\n",
            "\u001b[0;32m<ipython-input-30-ae2f2f4ab5ac>\u001b[0m in \u001b[0;36mtrain\u001b[0;34m(self, X, y, epochs, batch_size, lr_centers, lr_weights)\u001b[0m\n\u001b[1;32m     71\u001b[0m                 \u001b[0;32mfor\u001b[0m \u001b[0mj\u001b[0m \u001b[0;32min\u001b[0m \u001b[0mrange\u001b[0m\u001b[0;34m(\u001b[0m\u001b[0mself\u001b[0m\u001b[0;34m.\u001b[0m\u001b[0mhidden_dim\u001b[0m\u001b[0;34m)\u001b[0m\u001b[0;34m:\u001b[0m\u001b[0;34m\u001b[0m\u001b[0;34m\u001b[0m\u001b[0m\n\u001b[1;32m     72\u001b[0m                     dE_dc = np.sum(\n\u001b[0;32m---> 73\u001b[0;31m                         \u001b[0;34m(\u001b[0m\u001b[0merror\u001b[0m \u001b[0;34m*\u001b[0m \u001b[0mself\u001b[0m\u001b[0;34m.\u001b[0m\u001b[0mweights\u001b[0m\u001b[0;34m[\u001b[0m\u001b[0mj\u001b[0m\u001b[0;34m]\u001b[0m\u001b[0;34m)\u001b[0m \u001b[0;34m*\u001b[0m \u001b[0mG\u001b[0m\u001b[0;34m[\u001b[0m\u001b[0;34m:\u001b[0m\u001b[0;34m,\u001b[0m \u001b[0mj\u001b[0m\u001b[0;34m]\u001b[0m\u001b[0;34m.\u001b[0m\u001b[0mreshape\u001b[0m\u001b[0;34m(\u001b[0m\u001b[0;34m-\u001b[0m\u001b[0;36m1\u001b[0m\u001b[0;34m,\u001b[0m \u001b[0;36m1\u001b[0m\u001b[0;34m)\u001b[0m \u001b[0;34m*\u001b[0m\u001b[0;34m\u001b[0m\u001b[0;34m\u001b[0m\u001b[0m\n\u001b[0m\u001b[1;32m     74\u001b[0m                         \u001b[0;34m(\u001b[0m\u001b[0;34m(\u001b[0m\u001b[0mX_batch\u001b[0m \u001b[0;34m-\u001b[0m \u001b[0mself\u001b[0m\u001b[0;34m.\u001b[0m\u001b[0mcenters\u001b[0m\u001b[0;34m[\u001b[0m\u001b[0mj\u001b[0m\u001b[0;34m]\u001b[0m\u001b[0;34m)\u001b[0m \u001b[0;34m/\u001b[0m \u001b[0mself\u001b[0m\u001b[0;34m.\u001b[0m\u001b[0msigma\u001b[0m\u001b[0;34m**\u001b[0m\u001b[0;36m2\u001b[0m\u001b[0;34m)\u001b[0m\u001b[0;34m,\u001b[0m\u001b[0;34m\u001b[0m\u001b[0;34m\u001b[0m\u001b[0m\n\u001b[1;32m     75\u001b[0m                         \u001b[0maxis\u001b[0m\u001b[0;34m=\u001b[0m\u001b[0;36m0\u001b[0m\u001b[0;34m\u001b[0m\u001b[0;34m\u001b[0m\u001b[0m\n",
            "\u001b[0;31mValueError\u001b[0m: operands could not be broadcast together with shapes (32,10) (32,784) "
          ]
        }
      ]
    },
    {
      "cell_type": "code",
      "source": [
        "import numpy as np\n",
        "from keras.datasets import mnist\n",
        "from keras.utils import to_categorical\n",
        "from sklearn.cluster import KMeans\n",
        "import matplotlib.pyplot as plt\n",
        "\n",
        "def load_data():\n",
        "    (train_images, train_labels), (test_images, test_labels) = mnist.load_data()\n",
        "\n",
        "    # Reshape and normalize\n",
        "    train_images = train_images.reshape((60000, 28*28)).astype('float32') / 255\n",
        "    test_images = test_images.reshape((10000, 28*28)).astype('float32') / 255\n",
        "\n",
        "    # Convert labels to categorical\n",
        "    train_labels = to_categorical(train_labels)\n",
        "    test_labels = to_categorical(test_labels)\n",
        "\n",
        "    return train_images, train_labels, test_images, test_labels\n",
        "\n",
        "class RBFNetwork:\n",
        "    def __init__(self, input_dim, hidden_dim, output_dim, sigma=1.0):\n",
        "        self.input_dim = input_dim\n",
        "        self.hidden_dim = hidden_dim\n",
        "        self.output_dim = output_dim\n",
        "        self.sigma = sigma\n",
        "\n",
        "        # Initialize centers and weights\n",
        "        self.centers = np.random.randn(hidden_dim, input_dim)\n",
        "        self.weights = np.random.randn(hidden_dim, output_dim)\n",
        "\n",
        "    def gaussian(self, X):\n",
        "        # Compute pairwise squared Euclidean distances\n",
        "        X_squared = np.sum(X**2, axis=1, keepdims=True)\n",
        "        centers_squared = np.sum(self.centers**2, axis=1)\n",
        "        distances = X_squared - 2 * np.dot(X, self.centers.T) + centers_squared\n",
        "        return np.exp(-distances / (2 * self.sigma**2))\n",
        "\n",
        "    def forward(self, X):\n",
        "        # Compute RBF activations\n",
        "        G = self.gaussian(X)\n",
        "        # Compute output\n",
        "        return np.dot(G, self.weights)\n",
        "\n",
        "    def train(self, X, y, epochs, batch_size=32, lr_centers=0.01, lr_weights=0.01):\n",
        "        mse_history = []\n",
        "        n_samples = X.shape[0]\n",
        "        n_batches = n_samples // batch_size\n",
        "\n",
        "        for epoch in range(epochs):\n",
        "            # Shuffle the data\n",
        "            indices = np.random.permutation(n_samples)\n",
        "            X, y = X[indices], y[indices]\n",
        "\n",
        "            epoch_mse = 0\n",
        "            for batch in range(n_batches):\n",
        "                start = batch * batch_size\n",
        "                end = start + batch_size\n",
        "                X_batch, y_batch = X[start:end], y[start:end]\n",
        "\n",
        "                # Forward pass\n",
        "                G = self.gaussian(X_batch)\n",
        "                y_pred = np.dot(G, self.weights)\n",
        "                error = y_batch - y_pred\n",
        "\n",
        "                # Update weights\n",
        "                self.weights += lr_weights * np.dot(G.T, error)\n",
        "\n",
        "                # Update centers\n",
        "                for j in range(self.hidden_dim):\n",
        "                    dE_dc = np.sum(\n",
        "                        np.dot(error, self.weights[j].T).reshape(-1, 1) * G[:, j].reshape(-1, 1) *\n",
        "                        ((X_batch - self.centers[j]) / self.sigma**2),\n",
        "                        axis=0\n",
        "                    )\n",
        "                    self.centers[j] += lr_centers * dE_dc\n",
        "\n",
        "                batch_mse = np.mean(np.square(error))\n",
        "                epoch_mse += batch_mse\n",
        "\n",
        "            epoch_mse /= n_batches\n",
        "            mse_history.append(epoch_mse)\n",
        "\n",
        "            #if epoch % 10 == 0:\n",
        "            print(f\"Epoch {epoch}, MSE: {epoch_mse}\")\n",
        "\n",
        "        return mse_history\n",
        "\n",
        "# Load and preprocess data\n",
        "X_train, y_train, X_test, y_test = load_data()\n",
        "\n",
        "# Initialize and train RBF network\n",
        "input_dim = 28*28\n",
        "hidden_dim = 100  # Number of RBF units\n",
        "output_dim = 10  # Number of classes\n",
        "\n",
        "rbf_net = RBFNetwork(input_dim, hidden_dim, output_dim)\n",
        "mse_history = rbf_net.train(X_train, y_train, epochs=10)\n",
        "\n",
        "# Plot MSE history\n",
        "plt.plot(mse_history)\n",
        "plt.title('Mean Squared Error over Epochs')\n",
        "plt.xlabel('Epoch')\n",
        "plt.ylabel('MSE')\n",
        "plt.show()\n",
        "\n",
        "# Evaluate on test set\n",
        "y_pred = rbf_net.forward(X_test)\n",
        "accuracy = np.mean(np.argmax(y_pred, axis=1) == np.argmax(y_test, axis=1))\n",
        "print(f\"Test accuracy: {accuracy}\")\n"
      ],
      "metadata": {
        "colab": {
          "base_uri": "https://localhost:8080/",
          "height": 668
        },
        "id": "vdQ5q7bBPAWm",
        "outputId": "fee0923b-a96d-4348-9a9e-07bc51656c8d"
      },
      "execution_count": null,
      "outputs": [
        {
          "output_type": "stream",
          "name": "stdout",
          "text": [
            "Epoch 0, MSE: 0.0999999999999966\n",
            "Epoch 1, MSE: 0.0999999999999966\n",
            "Epoch 2, MSE: 0.0999999999999966\n",
            "Epoch 3, MSE: 0.0999999999999966\n",
            "Epoch 4, MSE: 0.0999999999999966\n",
            "Epoch 5, MSE: 0.0999999999999966\n",
            "Epoch 6, MSE: 0.0999999999999966\n",
            "Epoch 7, MSE: 0.0999999999999966\n",
            "Epoch 8, MSE: 0.0999999999999966\n",
            "Epoch 9, MSE: 0.0999999999999966\n"
          ]
        },
        {
          "output_type": "display_data",
          "data": {
            "text/plain": [
              "<Figure size 640x480 with 1 Axes>"
            ],
            "image/png": "[encoded data removed]"
          },
          "metadata": {}
        },
        {
          "output_type": "stream",
          "name": "stdout",
          "text": [
            "Test accuracy: 0.0808\n"
          ]
        }
      ]
    },
    {
      "cell_type": "code",
      "source": [
        "import numpy as np\n",
        "from keras.datasets import mnist\n",
        "from keras.utils import to_categorical\n",
        "from sklearn.cluster import KMeans\n",
        "import matplotlib.pyplot as plt\n",
        "\n",
        "def load_data():\n",
        "    (train_images, train_labels), (test_images, test_labels) = mnist.load_data()\n",
        "\n",
        "    # Reshape and normalize\n",
        "    train_images = train_images.reshape((60000, 28*28)).astype('float32') / 255\n",
        "    test_images = test_images.reshape((10000, 28*28)).astype('float32') / 255\n",
        "\n",
        "    # Convert labels to categorical\n",
        "    train_labels = to_categorical(train_labels)\n",
        "    test_labels = to_categorical(test_labels)\n",
        "\n",
        "    return train_images, train_labels, test_images, test_labels\n",
        "\n",
        "class RBFNetwork:\n",
        "    def __init__(self, input_dim, hidden_dim, output_dim, sigma=1.0):\n",
        "        self.input_dim = input_dim\n",
        "        self.hidden_dim = hidden_dim\n",
        "        self.output_dim = output_dim\n",
        "        self.sigma = sigma\n",
        "\n",
        "        # Initialize centers and weights\n",
        "        self.centers = np.random.randn(hidden_dim, input_dim)\n",
        "        self.weights = np.random.randn(hidden_dim, output_dim)\n",
        "\n",
        "        # Compute average distances for dynamic beta\n",
        "        self.avg_distances = np.mean(np.linalg.norm(self.centers[:, np.newaxis] - self.centers, axis=2))\n",
        "\n",
        "    def gaussian(self, X):\n",
        "        # Compute pairwise squared Euclidean distances\n",
        "        X_squared = np.sum(X**2, axis=1, keepdims=True)\n",
        "        centers_squared = np.sum(self.centers**2, axis=1)\n",
        "        distances = X_squared - 2 * np.dot(X, self.centers.T) + centers_squared\n",
        "\n",
        "        # Compute dynamic beta\n",
        "        beta = 1.0 / (2 * self.avg_distances**2)\n",
        "\n",
        "        return np.exp(-beta * distances)\n",
        "\n",
        "    def forward(self, X):\n",
        "        # Compute RBF activations\n",
        "        G = self.gaussian(X)\n",
        "        # Compute output\n",
        "        return np.dot(G, self.weights)\n",
        "\n",
        "    def train(self, X, y, epochs, batch_size=32, lr_centers=0.01, lr_weights=0.01):\n",
        "        mse_history = []\n",
        "        n_samples = X.shape[0]\n",
        "        n_batches = n_samples // batch_size\n",
        "\n",
        "        for epoch in range(epochs):\n",
        "            # Shuffle the data\n",
        "            indices = np.random.permutation(n_samples)\n",
        "            X, y = X[indices], y[indices]\n",
        "\n",
        "            epoch_mse = 0\n",
        "            for batch in range(n_batches):\n",
        "                start = batch * batch_size\n",
        "                end = start + batch_size\n",
        "                X_batch, y_batch = X[start:end], y[start:end]\n",
        "\n",
        "                # Forward pass\n",
        "                G = self.gaussian(X_batch)\n",
        "                y_pred = np.dot(G, self.weights)\n",
        "                error = y_batch - y_pred\n",
        "\n",
        "                # Update weights\n",
        "                self.weights += lr_weights * np.dot(G.T, error)\n",
        "\n",
        "                # Update centers\n",
        "                beta = 1.0 / (2 * self.avg_distances**2)\n",
        "                for j in range(self.hidden_dim):\n",
        "                    dE_dc = np.sum(\n",
        "                        np.dot(error, self.weights[j].T).reshape(-1, 1) * G[:, j].reshape(-1, 1) *\n",
        "                        2 * beta * (X_batch - self.centers[j]),\n",
        "                        axis=0\n",
        "                    )\n",
        "                    self.centers[j] += lr_centers * dE_dc\n",
        "\n",
        "                # Update avg_distances\n",
        "                self.avg_distances = np.mean(np.linalg.norm(self.centers[:, np.newaxis] - self.centers, axis=2))\n",
        "\n",
        "                batch_mse = np.mean(np.square(error))\n",
        "                epoch_mse += batch_mse\n",
        "\n",
        "            epoch_mse /= n_batches\n",
        "            mse_history.append(epoch_mse)\n",
        "\n",
        "            #if epoch % 10 == 0:\n",
        "            print(f\"Epoch {epoch}, MSE: {epoch_mse}\")\n",
        "\n",
        "        return mse_history\n",
        "\n",
        "# Load and preprocess data\n",
        "X_train, y_train, X_test, y_test = load_data()\n",
        "\n",
        "# Initialize and train RBF network\n",
        "input_dim = 28*28\n",
        "hidden_dim = 100  # Number of RBF units\n",
        "output_dim = 10  # Number of classes\n",
        "\n",
        "rbf_net = RBFNetwork(input_dim, hidden_dim, output_dim)\n",
        "mse_history = rbf_net.train(X_train, y_train, epochs=10)\n",
        "\n",
        "# Plot MSE history\n",
        "plt.plot(mse_history)\n",
        "plt.title('Mean Squared Error over Epochs')\n",
        "plt.xlabel('Epoch')\n",
        "plt.ylabel('MSE')\n",
        "plt.show()\n",
        "\n",
        "# Evaluate on test set\n",
        "y_pred = rbf_net.forward(X_test)\n",
        "accuracy = np.mean(np.argmax(y_pred, axis=1) == np.argmax(y_test, axis=1))\n",
        "print(f\"Test accuracy: {accuracy}\")"
      ],
      "metadata": {
        "colab": {
          "base_uri": "https://localhost:8080/",
          "height": 581
        },
        "id": "F11wJk_KPoKB",
        "outputId": "cbb55bdd-3150-4357-cb04-839db8a6227d"
      },
      "execution_count": null,
      "outputs": [
        {
          "output_type": "stream",
          "name": "stderr",
          "text": [
            "/usr/local/lib/python3.10/dist-packages/numpy/linalg/linalg.py:2583: RuntimeWarning: overflow encountered in reduce\n",
            "  return sqrt(add.reduce(s, axis=axis, keepdims=keepdims))\n",
            "/usr/local/lib/python3.10/dist-packages/numpy/core/_methods.py:118: RuntimeWarning: overflow encountered in reduce\n",
            "  ret = umr_sum(arr, axis, dtype, out, keepdims, where=where)\n",
            "<ipython-input-32-a82e90deae5c>:79: RuntimeWarning: invalid value encountered in multiply\n",
            "  np.dot(error, self.weights[j].T).reshape(-1, 1) * G[:, j].reshape(-1, 1) *\n",
            "<ipython-input-32-a82e90deae5c>:88: RuntimeWarning: overflow encountered in square\n",
            "  batch_mse = np.mean(np.square(error))\n"
          ]
        },
        {
          "output_type": "stream",
          "name": "stdout",
          "text": [
            "Epoch 0, MSE: nan\n",
            "Epoch 1, MSE: nan\n"
          ]
        },
        {
          "output_type": "error",
          "ename": "KeyboardInterrupt",
          "evalue": "",
          "traceback": [
            "\u001b[0;31m---------------------------------------------------------------------------\u001b[0m",
            "\u001b[0;31mKeyboardInterrupt\u001b[0m                         Traceback (most recent call last)",
            "\u001b[0;32m<ipython-input-32-a82e90deae5c>\u001b[0m in \u001b[0;36m<cell line: 108>\u001b[0;34m()\u001b[0m\n\u001b[1;32m    106\u001b[0m \u001b[0;34m\u001b[0m\u001b[0m\n\u001b[1;32m    107\u001b[0m \u001b[0mrbf_net\u001b[0m \u001b[0;34m=\u001b[0m \u001b[0mRBFNetwork\u001b[0m\u001b[0;34m(\u001b[0m\u001b[0minput_dim\u001b[0m\u001b[0;34m,\u001b[0m \u001b[0mhidden_dim\u001b[0m\u001b[0;34m,\u001b[0m \u001b[0moutput_dim\u001b[0m\u001b[0;34m)\u001b[0m\u001b[0;34m\u001b[0m\u001b[0;34m\u001b[0m\u001b[0m\n\u001b[0;32m--> 108\u001b[0;31m \u001b[0mmse_history\u001b[0m \u001b[0;34m=\u001b[0m \u001b[0mrbf_net\u001b[0m\u001b[0;34m.\u001b[0m\u001b[0mtrain\u001b[0m\u001b[0;34m(\u001b[0m\u001b[0mX_train\u001b[0m\u001b[0;34m,\u001b[0m \u001b[0my_train\u001b[0m\u001b[0;34m,\u001b[0m \u001b[0mepochs\u001b[0m\u001b[0;34m=\u001b[0m\u001b[0;36m10\u001b[0m\u001b[0;34m)\u001b[0m\u001b[0;34m\u001b[0m\u001b[0;34m\u001b[0m\u001b[0m\n\u001b[0m\u001b[1;32m    109\u001b[0m \u001b[0;34m\u001b[0m\u001b[0m\n\u001b[1;32m    110\u001b[0m \u001b[0;31m# Plot MSE history\u001b[0m\u001b[0;34m\u001b[0m\u001b[0;34m\u001b[0m\u001b[0m\n",
            "\u001b[0;32m<ipython-input-32-a82e90deae5c>\u001b[0m in \u001b[0;36mtrain\u001b[0;34m(self, X, y, epochs, batch_size, lr_centers, lr_weights)\u001b[0m\n\u001b[1;32m     84\u001b[0m \u001b[0;34m\u001b[0m\u001b[0m\n\u001b[1;32m     85\u001b[0m                 \u001b[0;31m# Update avg_distances\u001b[0m\u001b[0;34m\u001b[0m\u001b[0;34m\u001b[0m\u001b[0m\n\u001b[0;32m---> 86\u001b[0;31m                 \u001b[0mself\u001b[0m\u001b[0;34m.\u001b[0m\u001b[0mavg_distances\u001b[0m \u001b[0;34m=\u001b[0m \u001b[0mnp\u001b[0m\u001b[0;34m.\u001b[0m\u001b[0mmean\u001b[0m\u001b[0;34m(\u001b[0m\u001b[0mnp\u001b[0m\u001b[0;34m.\u001b[0m\u001b[0mlinalg\u001b[0m\u001b[0;34m.\u001b[0m\u001b[0mnorm\u001b[0m\u001b[0;34m(\u001b[0m\u001b[0mself\u001b[0m\u001b[0;34m.\u001b[0m\u001b[0mcenters\u001b[0m\u001b[0;34m[\u001b[0m\u001b[0;34m:\u001b[0m\u001b[0;34m,\u001b[0m \u001b[0mnp\u001b[0m\u001b[0;34m.\u001b[0m\u001b[0mnewaxis\u001b[0m\u001b[0;34m]\u001b[0m \u001b[0;34m-\u001b[0m \u001b[0mself\u001b[0m\u001b[0;34m.\u001b[0m\u001b[0mcenters\u001b[0m\u001b[0;34m,\u001b[0m \u001b[0maxis\u001b[0m\u001b[0;34m=\u001b[0m\u001b[0;36m2\u001b[0m\u001b[0;34m)\u001b[0m\u001b[0;34m)\u001b[0m\u001b[0;34m\u001b[0m\u001b[0;34m\u001b[0m\u001b[0m\n\u001b[0m\u001b[1;32m     87\u001b[0m \u001b[0;34m\u001b[0m\u001b[0m\n\u001b[1;32m     88\u001b[0m                 \u001b[0mbatch_mse\u001b[0m \u001b[0;34m=\u001b[0m \u001b[0mnp\u001b[0m\u001b[0;34m.\u001b[0m\u001b[0mmean\u001b[0m\u001b[0;34m(\u001b[0m\u001b[0mnp\u001b[0m\u001b[0;34m.\u001b[0m\u001b[0msquare\u001b[0m\u001b[0;34m(\u001b[0m\u001b[0merror\u001b[0m\u001b[0;34m)\u001b[0m\u001b[0;34m)\u001b[0m\u001b[0;34m\u001b[0m\u001b[0;34m\u001b[0m\u001b[0m\n",
            "\u001b[0;32m/usr/local/lib/python3.10/dist-packages/numpy/linalg/linalg.py\u001b[0m in \u001b[0;36mnorm\u001b[0;34m(x, ord, axis, keepdims)\u001b[0m\n\u001b[1;32m   2581\u001b[0m             \u001b[0;31m# special case for speedup\u001b[0m\u001b[0;34m\u001b[0m\u001b[0;34m\u001b[0m\u001b[0m\n\u001b[1;32m   2582\u001b[0m             \u001b[0ms\u001b[0m \u001b[0;34m=\u001b[0m \u001b[0;34m(\u001b[0m\u001b[0mx\u001b[0m\u001b[0;34m.\u001b[0m\u001b[0mconj\u001b[0m\u001b[0;34m(\u001b[0m\u001b[0;34m)\u001b[0m \u001b[0;34m*\u001b[0m \u001b[0mx\u001b[0m\u001b[0;34m)\u001b[0m\u001b[0;34m.\u001b[0m\u001b[0mreal\u001b[0m\u001b[0;34m\u001b[0m\u001b[0;34m\u001b[0m\u001b[0m\n\u001b[0;32m-> 2583\u001b[0;31m             \u001b[0;32mreturn\u001b[0m \u001b[0msqrt\u001b[0m\u001b[0;34m(\u001b[0m\u001b[0madd\u001b[0m\u001b[0;34m.\u001b[0m\u001b[0mreduce\u001b[0m\u001b[0;34m(\u001b[0m\u001b[0ms\u001b[0m\u001b[0;34m,\u001b[0m \u001b[0maxis\u001b[0m\u001b[0;34m=\u001b[0m\u001b[0maxis\u001b[0m\u001b[0;34m,\u001b[0m \u001b[0mkeepdims\u001b[0m\u001b[0;34m=\u001b[0m\u001b[0mkeepdims\u001b[0m\u001b[0;34m)\u001b[0m\u001b[0;34m)\u001b[0m\u001b[0;34m\u001b[0m\u001b[0;34m\u001b[0m\u001b[0m\n\u001b[0m\u001b[1;32m   2584\u001b[0m         \u001b[0;31m# None of the str-type keywords for ord ('fro', 'nuc')\u001b[0m\u001b[0;34m\u001b[0m\u001b[0;34m\u001b[0m\u001b[0m\n\u001b[1;32m   2585\u001b[0m         \u001b[0;31m# are valid for vectors\u001b[0m\u001b[0;34m\u001b[0m\u001b[0;34m\u001b[0m\u001b[0m\n",
            "\u001b[0;31mKeyboardInterrupt\u001b[0m: "
          ]
        }
      ]
    },
    {
      "cell_type": "code",
      "source": [
        "import numpy as np\n",
        "from keras.datasets import mnist\n",
        "from keras.utils import to_categorical\n",
        "from sklearn.preprocessing import StandardScaler\n",
        "import matplotlib.pyplot as plt\n",
        "\n",
        "def load_data():\n",
        "    (train_images, train_labels), (test_images, test_labels) = mnist.load_data()\n",
        "\n",
        "    # Reshape and normalize\n",
        "    train_images = train_images.reshape((60000, 28*28)).astype('float32')\n",
        "    test_images = test_images.reshape((10000, 28*28)).astype('float32')\n",
        "\n",
        "    # Standard scaling\n",
        "    scaler = StandardScaler()\n",
        "    train_images = scaler.fit_transform(train_images)\n",
        "    test_images = scaler.transform(test_images)\n",
        "\n",
        "    # Convert labels to categorical\n",
        "    train_labels = to_categorical(train_labels)\n",
        "    test_labels = to_categorical(test_labels)\n",
        "\n",
        "    return train_images, train_labels, test_images, test_labels\n",
        "\n",
        "class RBFNetwork:\n",
        "    def __init__(self, input_dim, hidden_dim, output_dim, sigma=1.0):\n",
        "        self.input_dim = input_dim\n",
        "        self.hidden_dim = hidden_dim\n",
        "        self.output_dim = output_dim\n",
        "        self.sigma = sigma\n",
        "\n",
        "        # Initialize centers and weights\n",
        "        self.centers = np.random.randn(hidden_dim, input_dim)\n",
        "        self.weights = np.random.randn(hidden_dim, output_dim)\n",
        "\n",
        "    def gaussian(self, X):\n",
        "        # Compute pairwise squared Euclidean distances\n",
        "        X_squared = np.sum(X**2, axis=1, keepdims=True)\n",
        "        centers_squared = np.sum(self.centers**2, axis=1)\n",
        "        distances = X_squared - 2 * np.dot(X, self.centers.T) + centers_squared\n",
        "        return np.exp(-distances / (2 * self.sigma**2))\n",
        "\n",
        "    def forward(self, X):\n",
        "        # Compute RBF activations\n",
        "        G = self.gaussian(X)\n",
        "        # Compute output\n",
        "        return np.dot(G, self.weights)\n",
        "\n",
        "    def train(self, X, y, epochs, batch_size=32, lr_centers=0.1, lr_weights=0.1):\n",
        "        mse_history = []\n",
        "        n_samples = X.shape[0]\n",
        "        n_batches = n_samples // batch_size\n",
        "\n",
        "        for epoch in range(epochs):\n",
        "            # Shuffle the data\n",
        "            indices = np.random.permutation(n_samples)\n",
        "            X, y = X[indices], y[indices]\n",
        "\n",
        "            epoch_mse = 0\n",
        "            for batch in range(n_batches):\n",
        "                start = batch * batch_size\n",
        "                end = start + batch_size\n",
        "                X_batch, y_batch = X[start:end], y[start:end]\n",
        "\n",
        "                # Forward pass\n",
        "                G = self.gaussian(X_batch)\n",
        "                y_pred = np.dot(G, self.weights)\n",
        "                error = y_batch - y_pred\n",
        "\n",
        "                # Update weights\n",
        "                self.weights += lr_weights * np.dot(G.T, error)\n",
        "\n",
        "                # Update centers\n",
        "                for j in range(self.hidden_dim):\n",
        "                    dE_dc = np.sum(\n",
        "                        np.dot(error, self.weights[j].T).reshape(-1, 1) * G[:, j].reshape(-1, 1) *\n",
        "                        ((X_batch - self.centers[j]) / self.sigma**2),\n",
        "                        axis=0\n",
        "                    )\n",
        "                    self.centers[j] += lr_centers * dE_dc\n",
        "\n",
        "                batch_mse = np.mean(np.square(error))\n",
        "                epoch_mse += batch_mse\n",
        "\n",
        "            epoch_mse /= n_batches\n",
        "            mse_history.append(epoch_mse)\n",
        "\n",
        "            # Log the MSE for each epoch\n",
        "            print(f\"Epoch {epoch}, MSE: {epoch_mse}\")\n",
        "\n",
        "        return mse_history\n",
        "\n",
        "# Load and preprocess data\n",
        "X_train, y_train, X_test, y_test = load_data()\n",
        "\n",
        "# Initialize and train RBF network\n",
        "input_dim = 28*28\n",
        "hidden_dim = 500  # Number of RBF units\n",
        "output_dim = 10  # Number of classes\n",
        "\n",
        "rbf_net = RBFNetwork(input_dim, hidden_dim, output_dim)\n",
        "mse_history = rbf_net.train(X_train, y_train, epochs=10)\n",
        "\n",
        "# Plot MSE history\n",
        "plt.plot(mse_history)\n",
        "plt.title('Mean Squared Error over Epochs')\n",
        "plt.xlabel('Epoch')\n",
        "plt.ylabel('MSE')\n",
        "plt.show()\n",
        "\n",
        "# Evaluate on test set\n",
        "y_pred = rbf_net.forward(X_test)\n",
        "accuracy = np.mean(np.argmax(y_pred, axis=1) == np.argmax(y_test, axis=1))\n",
        "print(f\"Test accuracy: {accuracy}\")\n"
      ],
      "metadata": {
        "colab": {
          "base_uri": "https://localhost:8080/",
          "height": 418
        },
        "id": "XgRnpql0R4Lo",
        "outputId": "ae1f96e5-366f-4121-8b21-83723a2358c3"
      },
      "execution_count": null,
      "outputs": [
        {
          "output_type": "stream",
          "name": "stdout",
          "text": [
            "Epoch 0, MSE: 0.0999999999999966\n",
            "Epoch 1, MSE: 0.0999999999999966\n"
          ]
        },
        {
          "output_type": "error",
          "ename": "KeyboardInterrupt",
          "evalue": "",
          "traceback": [
            "\u001b[0;31m---------------------------------------------------------------------------\u001b[0m",
            "\u001b[0;31mKeyboardInterrupt\u001b[0m                         Traceback (most recent call last)",
            "\u001b[0;32m<ipython-input-35-c74360ce0794>\u001b[0m in \u001b[0;36m<cell line: 102>\u001b[0;34m()\u001b[0m\n\u001b[1;32m    100\u001b[0m \u001b[0;34m\u001b[0m\u001b[0m\n\u001b[1;32m    101\u001b[0m \u001b[0mrbf_net\u001b[0m \u001b[0;34m=\u001b[0m \u001b[0mRBFNetwork\u001b[0m\u001b[0;34m(\u001b[0m\u001b[0minput_dim\u001b[0m\u001b[0;34m,\u001b[0m \u001b[0mhidden_dim\u001b[0m\u001b[0;34m,\u001b[0m \u001b[0moutput_dim\u001b[0m\u001b[0;34m)\u001b[0m\u001b[0;34m\u001b[0m\u001b[0;34m\u001b[0m\u001b[0m\n\u001b[0;32m--> 102\u001b[0;31m \u001b[0mmse_history\u001b[0m \u001b[0;34m=\u001b[0m \u001b[0mrbf_net\u001b[0m\u001b[0;34m.\u001b[0m\u001b[0mtrain\u001b[0m\u001b[0;34m(\u001b[0m\u001b[0mX_train\u001b[0m\u001b[0;34m,\u001b[0m \u001b[0my_train\u001b[0m\u001b[0;34m,\u001b[0m \u001b[0mepochs\u001b[0m\u001b[0;34m=\u001b[0m\u001b[0;36m10\u001b[0m\u001b[0;34m)\u001b[0m\u001b[0;34m\u001b[0m\u001b[0;34m\u001b[0m\u001b[0m\n\u001b[0m\u001b[1;32m    103\u001b[0m \u001b[0;34m\u001b[0m\u001b[0m\n\u001b[1;32m    104\u001b[0m \u001b[0;31m# Plot MSE history\u001b[0m\u001b[0;34m\u001b[0m\u001b[0;34m\u001b[0m\u001b[0m\n",
            "\u001b[0;32m<ipython-input-35-c74360ce0794>\u001b[0m in \u001b[0;36mtrain\u001b[0;34m(self, X, y, epochs, batch_size, lr_centers, lr_weights)\u001b[0m\n\u001b[1;32m     73\u001b[0m                 \u001b[0;31m# Update centers\u001b[0m\u001b[0;34m\u001b[0m\u001b[0;34m\u001b[0m\u001b[0m\n\u001b[1;32m     74\u001b[0m                 \u001b[0;32mfor\u001b[0m \u001b[0mj\u001b[0m \u001b[0;32min\u001b[0m \u001b[0mrange\u001b[0m\u001b[0;34m(\u001b[0m\u001b[0mself\u001b[0m\u001b[0;34m.\u001b[0m\u001b[0mhidden_dim\u001b[0m\u001b[0;34m)\u001b[0m\u001b[0;34m:\u001b[0m\u001b[0;34m\u001b[0m\u001b[0;34m\u001b[0m\u001b[0m\n\u001b[0;32m---> 75\u001b[0;31m                     dE_dc = np.sum(\n\u001b[0m\u001b[1;32m     76\u001b[0m                         \u001b[0mnp\u001b[0m\u001b[0;34m.\u001b[0m\u001b[0mdot\u001b[0m\u001b[0;34m(\u001b[0m\u001b[0merror\u001b[0m\u001b[0;34m,\u001b[0m \u001b[0mself\u001b[0m\u001b[0;34m.\u001b[0m\u001b[0mweights\u001b[0m\u001b[0;34m[\u001b[0m\u001b[0mj\u001b[0m\u001b[0;34m]\u001b[0m\u001b[0;34m.\u001b[0m\u001b[0mT\u001b[0m\u001b[0;34m)\u001b[0m\u001b[0;34m.\u001b[0m\u001b[0mreshape\u001b[0m\u001b[0;34m(\u001b[0m\u001b[0;34m-\u001b[0m\u001b[0;36m1\u001b[0m\u001b[0;34m,\u001b[0m \u001b[0;36m1\u001b[0m\u001b[0;34m)\u001b[0m \u001b[0;34m*\u001b[0m \u001b[0mG\u001b[0m\u001b[0;34m[\u001b[0m\u001b[0;34m:\u001b[0m\u001b[0;34m,\u001b[0m \u001b[0mj\u001b[0m\u001b[0;34m]\u001b[0m\u001b[0;34m.\u001b[0m\u001b[0mreshape\u001b[0m\u001b[0;34m(\u001b[0m\u001b[0;34m-\u001b[0m\u001b[0;36m1\u001b[0m\u001b[0;34m,\u001b[0m \u001b[0;36m1\u001b[0m\u001b[0;34m)\u001b[0m \u001b[0;34m*\u001b[0m\u001b[0;34m\u001b[0m\u001b[0;34m\u001b[0m\u001b[0m\n\u001b[1;32m     77\u001b[0m                         \u001b[0;34m(\u001b[0m\u001b[0;34m(\u001b[0m\u001b[0mX_batch\u001b[0m \u001b[0;34m-\u001b[0m \u001b[0mself\u001b[0m\u001b[0;34m.\u001b[0m\u001b[0mcenters\u001b[0m\u001b[0;34m[\u001b[0m\u001b[0mj\u001b[0m\u001b[0;34m]\u001b[0m\u001b[0;34m)\u001b[0m \u001b[0;34m/\u001b[0m \u001b[0mself\u001b[0m\u001b[0;34m.\u001b[0m\u001b[0msigma\u001b[0m\u001b[0;34m**\u001b[0m\u001b[0;36m2\u001b[0m\u001b[0;34m)\u001b[0m\u001b[0;34m,\u001b[0m\u001b[0;34m\u001b[0m\u001b[0;34m\u001b[0m\u001b[0m\n",
            "\u001b[0;32m/usr/local/lib/python3.10/dist-packages/numpy/core/fromnumeric.py\u001b[0m in \u001b[0;36m_sum_dispatcher\u001b[0;34m(a, axis, dtype, out, keepdims, initial, where)\u001b[0m\n\u001b[1;32m   2170\u001b[0m \u001b[0;34m\u001b[0m\u001b[0m\n\u001b[1;32m   2171\u001b[0m \u001b[0;34m\u001b[0m\u001b[0m\n\u001b[0;32m-> 2172\u001b[0;31m def _sum_dispatcher(a, axis=None, dtype=None, out=None, keepdims=None,\n\u001b[0m\u001b[1;32m   2173\u001b[0m                     initial=None, where=None):\n\u001b[1;32m   2174\u001b[0m     \u001b[0;32mreturn\u001b[0m \u001b[0;34m(\u001b[0m\u001b[0ma\u001b[0m\u001b[0;34m,\u001b[0m \u001b[0mout\u001b[0m\u001b[0;34m)\u001b[0m\u001b[0;34m\u001b[0m\u001b[0;34m\u001b[0m\u001b[0m\n",
            "\u001b[0;31mKeyboardInterrupt\u001b[0m: "
          ]
        }
      ]
    },
    {
      "cell_type": "code",
      "source": [
        "import numpy as np\n",
        "from keras.datasets import mnist\n",
        "from keras.utils import to_categorical\n",
        "from sklearn.preprocessing import StandardScaler\n",
        "from sklearn.cluster import KMeans\n",
        "import matplotlib.pyplot as plt\n",
        "\n",
        "def load_data():\n",
        "    (train_images, train_labels), (test_images, test_labels) = mnist.load_data()\n",
        "\n",
        "    # Reshape and normalize\n",
        "    train_images = train_images.reshape((60000, 28*28)).astype('float32')\n",
        "    test_images = test_images.reshape((10000, 28*28)).astype('float32')\n",
        "\n",
        "    # Standard scaling\n",
        "    scaler = StandardScaler()\n",
        "    train_images = scaler.fit_transform(train_images)\n",
        "    test_images = scaler.transform(test_images)\n",
        "\n",
        "    # Convert labels to categorical\n",
        "    train_labels = to_categorical(train_labels)\n",
        "    test_labels = to_categorical(test_labels)\n",
        "\n",
        "    return train_images, train_labels, test_images, test_labels\n",
        "\n",
        "class RBFNetwork:\n",
        "    def __init__(self, input_dim, hidden_dim, output_dim, sigma=1.0):\n",
        "        self.input_dim = input_dim\n",
        "        self.hidden_dim = hidden_dim\n",
        "        self.output_dim = output_dim\n",
        "        self.sigma = sigma\n",
        "\n",
        "        # Initialize centers using KMeans clustering\n",
        "        self.centers = np.zeros((hidden_dim, input_dim))\n",
        "        self.weights = np.random.randn(hidden_dim, output_dim) * 0.01\n",
        "\n",
        "    def initialize_centers(self, X):\n",
        "        kmeans = KMeans(n_clusters=self.hidden_dim, random_state=42).fit(X)\n",
        "        self.centers = kmeans.cluster_centers_\n",
        "\n",
        "    def gaussian(self, X):\n",
        "        # Compute pairwise squared Euclidean distances\n",
        "        X_squared = np.sum(X**2, axis=1, keepdims=True)\n",
        "        centers_squared = np.sum(self.centers**2, axis=1)\n",
        "        distances = X_squared - 2 * np.dot(X, self.centers.T) + centers_squared\n",
        "        return np.exp(-distances / (2 * self.sigma**2))\n",
        "\n",
        "    def forward(self, X):\n",
        "        # Compute RBF activations\n",
        "        G = self.gaussian(X)\n",
        "        # Compute output\n",
        "        return np.dot(G, self.weights)\n",
        "\n",
        "    def train(self, X, y, epochs, batch_size=128, lr_centers=0.1, lr_weights=0.1):\n",
        "        mse_history = []\n",
        "        n_samples = X.shape[0]\n",
        "        n_batches = n_samples // batch_size\n",
        "\n",
        "        for epoch in range(epochs):\n",
        "            # Shuffle the data\n",
        "            indices = np.random.permutation(n_samples)\n",
        "            X, y = X[indices], y[indices]\n",
        "\n",
        "            epoch_mse = 0\n",
        "            for batch in range(n_batches):\n",
        "                start = batch * batch_size\n",
        "                end = start + batch_size\n",
        "                X_batch, y_batch = X[start:end], y[start:end]\n",
        "\n",
        "                # Forward pass\n",
        "                G = self.gaussian(X_batch)\n",
        "                y_pred = np.dot(G, self.weights)\n",
        "                error = y_batch - y_pred\n",
        "\n",
        "                # Update weights\n",
        "                self.weights += lr_weights * np.dot(G.T, error)\n",
        "\n",
        "                # Update centers\n",
        "                for j in range(self.hidden_dim):\n",
        "                    dE_dc = np.sum(\n",
        "                        np.dot(error, self.weights[j].T).reshape(-1, 1) * G[:, j].reshape(-1, 1) *\n",
        "                        ((X_batch - self.centers[j]) / self.sigma**2),\n",
        "                        axis=0\n",
        "                    )\n",
        "                    self.centers[j] += lr_centers * dE_dc\n",
        "\n",
        "                batch_mse = np.mean(np.square(error))\n",
        "                epoch_mse += batch_mse\n",
        "\n",
        "            epoch_mse /= n_batches\n",
        "            mse_history.append(epoch_mse)\n",
        "\n",
        "            print(f\"Epoch {epoch}, MSE: {epoch_mse}\")\n",
        "\n",
        "        return mse_history\n",
        "\n",
        "# Load and preprocess data\n",
        "X_train, y_train, X_test, y_test = load_data()\n",
        "\n",
        "# Initialize and train RBF network\n",
        "input_dim = 28*28\n",
        "hidden_dim = 500  # Increased number of RBF units\n",
        "output_dim = 10  # Number of classes\n",
        "\n",
        "rbf_net = RBFNetwork(input_dim, hidden_dim, output_dim)\n",
        "rbf_net.initialize_centers(X_train)  # Initialize centers using KMeans\n",
        "mse_history = rbf_net.train(X_train, y_train, epochs=10)\n",
        "\n",
        "# Plot MSE history\n",
        "plt.plot(mse_history)\n",
        "plt.title('Mean Squared Error over Epochs')\n",
        "plt.xlabel('Epoch')\n",
        "plt.ylabel('MSE')\n",
        "plt.show()\n",
        "\n",
        "# Evaluate on test set\n",
        "y_pred = rbf_net.forward(X_test)\n",
        "accuracy = np.mean(np.argmax(y_pred, axis=1) == np.argmax(y_test, axis=1))\n",
        "print(f\"Test accuracy: {accuracy}\")\n"
      ],
      "metadata": {
        "colab": {
          "base_uri": "https://localhost:8080/"
        },
        "id": "5NbpMzFwUond",
        "outputId": "f050e203-015a-41f4-92a1-b460d4e14d1b"
      },
      "execution_count": null,
      "outputs": [
        {
          "output_type": "stream",
          "name": "stderr",
          "text": [
            "/usr/local/lib/python3.10/dist-packages/sklearn/cluster/_kmeans.py:1416: FutureWarning: The default value of `n_init` will change from 10 to 'auto' in 1.4. Set the value of `n_init` explicitly to suppress the warning\n",
            "  super()._check_params_vs_input(X, default_n_init=10)\n"
          ]
        },
        {
          "output_type": "stream",
          "name": "stdout",
          "text": [
            "Epoch 0, MSE: 0.10000025969071355\n",
            "Epoch 1, MSE: 0.09998662117259663\n",
            "Epoch 2, MSE: 0.09997546023372902\n",
            "Epoch 3, MSE: 0.09996708382208168\n",
            "Epoch 4, MSE: 0.09995901431061564\n",
            "Epoch 5, MSE: 0.0999528596053393\n",
            "Epoch 6, MSE: 0.09994781901092192\n",
            "Epoch 7, MSE: 0.0999436899797384\n",
            "Epoch 8, MSE: 0.0999403069267815\n",
            "Epoch 9, MSE: 0.09993885281126594\n"
          ]
        },
        {
          "output_type": "display_data",
          "data": {
            "text/plain": [
              "<Figure size 640x480 with 1 Axes>"
            ],
            "image/png": "[encoded data removed]"
          },
          "metadata": {}
        },
        {
          "output_type": "stream",
          "name": "stdout",
          "text": [
            "Test accuracy: 0.1314\n"
          ]
        }
      ]
    },
    {
      "cell_type": "code",
      "source": [],
      "metadata": {
        "id": "sUmHmcs0XGsC"
      },
      "execution_count": null,
      "outputs": []
    }
  ]
}